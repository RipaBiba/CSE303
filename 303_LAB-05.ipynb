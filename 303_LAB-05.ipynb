{
 "cells": [
  {
   "cell_type": "code",
   "execution_count": 1,
   "id": "ff9fe0ea",
   "metadata": {},
   "outputs": [],
   "source": [
    "import numpy as np"
   ]
  },
  {
   "cell_type": "code",
   "execution_count": 2,
   "id": "da97622e",
   "metadata": {},
   "outputs": [
    {
     "name": "stdout",
     "output_type": "stream",
     "text": [
      "A = [1 2 3 4 5 6]\n",
      "B = [10 20 30 40 50 60]\n",
      "A+B = [11 22 33 44 55 66]\n",
      "A-B = [ -9 -18 -27 -36 -45 -54]\n"
     ]
    }
   ],
   "source": [
    "A = np.array([1,2,3,4,5,6])\n",
    "print(f'A = {A}')\n",
    "\n",
    "B = np.array([10,20,30,40,50,60])\n",
    "print(f'B = {B}')\n",
    "\n",
    "print(f'A+B = {A+B}')\n",
    "print(f'A-B = {A-B}')"
   ]
  },
  {
   "cell_type": "code",
   "execution_count": 3,
   "id": "07f50817",
   "metadata": {},
   "outputs": [
    {
     "name": "stdout",
     "output_type": "stream",
     "text": [
      "List_01 = [1, 2, 3, 4, 5, 6]\n",
      "List_02 = [10, 20, 30, 40, 50, 60]\n",
      "Combind List = [1, 2, 3, 4, 5, 6, 10, 20, 30, 40, 50, 60]\n"
     ]
    }
   ],
   "source": [
    "list1 = [1,2,3,4,5,6]\n",
    "print(f'List_01 = {list1}')\n",
    "\n",
    "list2 = [10,20,30,40,50,60]\n",
    "print(f'List_02 = {list2}')\n",
    "\n",
    "print(f'Combind List = {list1 + list2}')\n",
    "\n",
    "#print(list1-list2)"
   ]
  },
  {
   "cell_type": "code",
   "execution_count": 4,
   "id": "1c2ff8b1",
   "metadata": {},
   "outputs": [
    {
     "name": "stdout",
     "output_type": "stream",
     "text": [
      "Temparature in Farenheit = [50.  59.  68.9 86.  98.6]\n"
     ]
    }
   ],
   "source": [
    "temp = np.array([10, 15, 20.5, 30, 37])\n",
    "temp_farenheit = temp * 1.8 + 32\n",
    "print(f'Temparature in Farenheit = {temp_farenheit}')"
   ]
  },
  {
   "cell_type": "code",
   "execution_count": 5,
   "id": "860d288e",
   "metadata": {},
   "outputs": [
    {
     "name": "stdout",
     "output_type": "stream",
     "text": [
      "Shhape of A is (6,)\n"
     ]
    }
   ],
   "source": [
    "print(f'Shhape of A is {A.shape}')"
   ]
  },
  {
   "cell_type": "code",
   "execution_count": 6,
   "id": "0627c4fe",
   "metadata": {},
   "outputs": [
    {
     "name": "stdout",
     "output_type": "stream",
     "text": [
      "Matrix_01: \n",
      " [[1 2 3]\n",
      " [4 5 6]]\n",
      "\n",
      "Matrix_02: \n",
      " [[7 8 9]\n",
      " [3 4 5]]\n"
     ]
    }
   ],
   "source": [
    "M1 = np.array([[1,2,3],[4,5,6]])\n",
    "# 1 2 3\n",
    "# 4 5 6\n",
    "M2 = np.array([[7,8,9],[3,4,5]])\n",
    "# 7 8 9\n",
    "# 3 4 5\n",
    "print(f'Matrix_01: \\n {M1}')\n",
    "print(f'\\nMatrix_02: \\n {M2}')"
   ]
  },
  {
   "cell_type": "code",
   "execution_count": 7,
   "id": "ca7ea23b",
   "metadata": {},
   "outputs": [
    {
     "name": "stdout",
     "output_type": "stream",
     "text": [
      "Shape of Matrix_01 is (2, 3)\n"
     ]
    }
   ],
   "source": [
    "print(f'Shape of Matrix_01 is {M1.shape}')"
   ]
  },
  {
   "cell_type": "code",
   "execution_count": 8,
   "id": "3c7a13cb",
   "metadata": {},
   "outputs": [
    {
     "name": "stdout",
     "output_type": "stream",
     "text": [
      "Summation: \n",
      "[[ 8 10 12]\n",
      " [ 7  9 11]]\n",
      "\n",
      "Subtraction: \n",
      "[[-6 -6 -6]\n",
      " [ 1  1  1]]\n",
      "\n",
      "Multiplication: \n",
      "[[ 7 16 27]\n",
      " [12 20 30]]\n",
      "\n",
      "Division: \n",
      "[[0.14285714 0.25       0.33333333]\n",
      " [1.33333333 1.25       1.2       ]]\n"
     ]
    }
   ],
   "source": [
    "M3 = M1+M2\n",
    "M4 = M1-M2\n",
    "M5 = M1*M2\n",
    "M6 = M1/M2\n",
    "\n",
    "print(f'Summation: \\n{M3}')\n",
    "print(f'\\nSubtraction: \\n{M4}')\n",
    "print(f'\\nMultiplication: \\n{M5}')\n",
    "print(f'\\nDivision: \\n{M6}')"
   ]
  },
  {
   "cell_type": "code",
   "execution_count": 9,
   "id": "18d780c6",
   "metadata": {},
   "outputs": [
    {
     "name": "stdout",
     "output_type": "stream",
     "text": [
      "Index wise print: \n",
      "[[1 2]\n",
      " [4 5]\n",
      " [7 8]]\n"
     ]
    }
   ],
   "source": [
    "M1 = np.array([[1,2,3],[4,5,6],[7,8,9]])\n",
    "M7 = M1[:,0:2]\n",
    "print(f'Index wise print: \\n{M7}')"
   ]
  },
  {
   "cell_type": "code",
   "execution_count": 10,
   "id": "0a02cea5",
   "metadata": {},
   "outputs": [
    {
     "name": "stdout",
     "output_type": "stream",
     "text": [
      "[8 9]\n"
     ]
    }
   ],
   "source": [
    "M8 = M1[-1,-2:]\n",
    "print(M8)"
   ]
  },
  {
   "cell_type": "code",
   "execution_count": 11,
   "id": "63867b32",
   "metadata": {},
   "outputs": [
    {
     "name": "stdout",
     "output_type": "stream",
     "text": [
      "In booliaan: \n",
      "[[False  True False  True]\n",
      " [ True False False  True]\n",
      " [ True False  True False]]\n"
     ]
    }
   ],
   "source": [
    "M9 = np.array([[1,2,3,4],[56,43,23,78],[100,101,102,103]])\n",
    "\n",
    "#   1   2   3   4\n",
    "#  56  43  23  78\n",
    "# 100 101 102 103\n",
    "\n",
    "bool_idx = (M9%2==0)\n",
    "\n",
    "print(f'In booliaan: \\n{bool_idx}')"
   ]
  },
  {
   "cell_type": "code",
   "execution_count": 12,
   "id": "20356a0c",
   "metadata": {},
   "outputs": [
    {
     "name": "stdout",
     "output_type": "stream",
     "text": [
      "[  2   4  56  78 100 102]\n"
     ]
    }
   ],
   "source": [
    "print(M9[bool_idx])"
   ]
  },
  {
   "cell_type": "code",
   "execution_count": 13,
   "id": "5971439e",
   "metadata": {},
   "outputs": [
    {
     "name": "stdout",
     "output_type": "stream",
     "text": [
      "[  2   4  56  78 100 102]\n"
     ]
    }
   ],
   "source": [
    "print(M9[M9%2==0])"
   ]
  },
  {
   "cell_type": "code",
   "execution_count": 14,
   "id": "bc987a90",
   "metadata": {},
   "outputs": [
    {
     "name": "stdout",
     "output_type": "stream",
     "text": [
      "Addition: \n",
      "[[0 0 0]\n",
      " [0 0 0]\n",
      " [0 0 0]]\n",
      "\n",
      "Substact: \n",
      "[[ 2  4  6]\n",
      " [ 8 10 12]\n",
      " [14 16 18]]\n",
      "\n",
      "Multiplication: \n",
      "[[ -1  -4  -9]\n",
      " [-16 -25 -36]\n",
      " [-49 -64 -81]]\n",
      "\n",
      "Division: \n",
      "[[-1. -1. -1.]\n",
      " [-1. -1. -1.]\n",
      " [-1. -1. -1.]]\n",
      "\n",
      "Sqrt of M1: \n",
      "[[1.         1.41421356 1.73205081]\n",
      " [2.         2.23606798 2.44948974]\n",
      " [2.64575131 2.82842712 3.        ]]\n"
     ]
    }
   ],
   "source": [
    "M1 =np.array([[1,2,3],[4,5,6],[7,8,9]])\n",
    "\n",
    "M2 =np.array([[-1,-2,-3],[-4,-5,-6],[-7,-8,-9]])\n",
    "\n",
    "print(f'Addition: \\n{np.add(M1,M2)}')\n",
    "\n",
    "print(f'\\nSubstact: \\n{np.subtract(M1,M2)}')\n",
    "\n",
    "print(f'\\nMultiplication: \\n{np.multiply(M1,M2)}')\n",
    "\n",
    "print(f'\\nDivision: \\n{np.divide(M1,M2)}')\n",
    "\n",
    "print(f'\\nSqrt of M1: \\n{np.sqrt(M1)}')\n"
   ]
  },
  {
   "cell_type": "code",
   "execution_count": 15,
   "id": "95309a2e",
   "metadata": {},
   "outputs": [
    {
     "name": "stdout",
     "output_type": "stream",
     "text": [
      "X.Y for x.dot(y): \n",
      "[[19 22]\n",
      " [43 50]]\n"
     ]
    }
   ],
   "source": [
    "x = np.array([[1,2],[3,4]])\n",
    "# 1 2       5 6\n",
    "# 3 4       7 8\n",
    "\n",
    "# 1.5+2.7   1.6+2.8     19  22   \n",
    "# 3.5+4.7   3.6+4.8     43  50\n",
    "\n",
    "y = np.array([[5,6],[7,8]])\n",
    "\n",
    "print(f'X.Y for x.dot(y): \\n{x.dot(y)}')"
   ]
  },
  {
   "cell_type": "code",
   "execution_count": 16,
   "id": "c8de14df",
   "metadata": {},
   "outputs": [
    {
     "name": "stdout",
     "output_type": "stream",
     "text": [
      "X.Y for np.dot(x,y): \n",
      "[[19 22]\n",
      " [43 50]]\n",
      "\n",
      "X.Y for x@y: \n",
      "[[19 22]\n",
      " [43 50]]\n",
      "\n",
      "X.Y for np.matmul(x,y): \n",
      "[[19 22]\n",
      " [43 50]]\n"
     ]
    }
   ],
   "source": [
    "print(f'X.Y for np.dot(x,y): \\n{(np.dot(x,y))}')\n",
    "print(f'\\nX.Y for x@y: \\n{(x@y)}')\n",
    "print(f'\\nX.Y for np.matmul(x,y): \\n{(np.matmul(x,y))}')"
   ]
  },
  {
   "cell_type": "code",
   "execution_count": 17,
   "id": "6d4fb699",
   "metadata": {},
   "outputs": [
    {
     "data": {
      "text/plain": [
       "array([26, 44])"
      ]
     },
     "execution_count": 17,
     "metadata": {},
     "output_type": "execute_result"
    }
   ],
   "source": [
    "#try\n",
    "def dot(v1, v2):\n",
    "    return sum(x*y for x, y in zip(v1, v2))\n",
    "\n",
    "x = np.array([[1,2],[3,4]])\n",
    "y = np.array([[5,6],[7,8]])\n",
    "dot(x,y)"
   ]
  },
  {
   "cell_type": "code",
   "execution_count": 18,
   "id": "1760c4ed",
   "metadata": {},
   "outputs": [
    {
     "name": "stdout",
     "output_type": "stream",
     "text": [
      "V1.V2 for np.dot(v1, v2): -1\n"
     ]
    }
   ],
   "source": [
    "v1 = np.array([1,2,3])# i+2j+3k\n",
    "v2 = np.array([-1,3,-2])# -i+3j-2k\n",
    "\n",
    "# 1.-1+2.3-3.2 = -1\n",
    "\n",
    "print(f'V1.V2 for np.dot(v1, v2): {np.dot(v1, v2)}')"
   ]
  },
  {
   "cell_type": "code",
   "execution_count": 19,
   "id": "85f30c57",
   "metadata": {},
   "outputs": [
    {
     "name": "stdout",
     "output_type": "stream",
     "text": [
      "X.shape: (3, 2)\n",
      "V1.shape: (3,)\n",
      "Dot Multiply: [22 28]\n"
     ]
    }
   ],
   "source": [
    "x = np.array([[1,2],[3,4],[5,6]])\n",
    "\n",
    "# 1 2  \n",
    "# 3 4\n",
    "# 5 6 \n",
    "\n",
    "# 1 3 5     # 1 2 3     1.1+3.2+5.3 = 22\n",
    "# 2 4 6                 2.1+4.2+6.3 = 28\n",
    "\n",
    "v1 = np.array([1,2,3])\n",
    "\n",
    "print(f'X.shape: {x.shape}')\n",
    "print(f'V1.shape: {v1.shape}')\n",
    "\n",
    "print(f'Dot Multiply: {np.dot(np.transpose(x),v1)}')"
   ]
  },
  {
   "cell_type": "code",
   "execution_count": 20,
   "id": "a7af5d88",
   "metadata": {},
   "outputs": [
    {
     "name": "stdout",
     "output_type": "stream",
     "text": [
      "Data1: [0 1 2 3 4 5 6 7 8 9]\n",
      "Average of data1: 4.5\n"
     ]
    }
   ],
   "source": [
    "data1 = np.arange(10)\n",
    "print(f'Data1: {data1}')\n",
    "print(f'Average of data1: {np.average(data1)}')"
   ]
  },
  {
   "cell_type": "code",
   "execution_count": 21,
   "id": "9ddd96a5",
   "metadata": {},
   "outputs": [
    {
     "name": "stdout",
     "output_type": "stream",
     "text": [
      "Data2: \n",
      "[[ 0  1  2]\n",
      " [ 3  4  5]\n",
      " [ 6  7  8]\n",
      " [ 9 10 11]]\n"
     ]
    }
   ],
   "source": [
    "data2 = np.arange(12).reshape(4,3)\n",
    "print(f'Data2: \\n{data2}') # matrix"
   ]
  },
  {
   "cell_type": "code",
   "execution_count": 22,
   "id": "808ff223",
   "metadata": {},
   "outputs": [
    {
     "data": {
      "text/plain": [
       "array([4.5, 5.5, 6.5])"
      ]
     },
     "execution_count": 22,
     "metadata": {},
     "output_type": "execute_result"
    }
   ],
   "source": [
    "np.average(data2, axis = 0)"
   ]
  },
  {
   "cell_type": "code",
   "execution_count": 23,
   "id": "7f1b08ce",
   "metadata": {},
   "outputs": [
    {
     "data": {
      "text/plain": [
       "array([ 1.,  4.,  7., 10.])"
      ]
     },
     "execution_count": 23,
     "metadata": {},
     "output_type": "execute_result"
    }
   ],
   "source": [
    "np.average(data2, axis = 1)"
   ]
  },
  {
   "cell_type": "code",
   "execution_count": 24,
   "id": "7c4f937d",
   "metadata": {},
   "outputs": [
    {
     "data": {
      "text/plain": [
       "66"
      ]
     },
     "execution_count": 24,
     "metadata": {},
     "output_type": "execute_result"
    }
   ],
   "source": [
    "np.sum(data2)"
   ]
  },
  {
   "cell_type": "code",
   "execution_count": 25,
   "id": "3b8b11ec",
   "metadata": {},
   "outputs": [
    {
     "data": {
      "text/plain": [
       "array([ 3, 12, 21, 30])"
      ]
     },
     "execution_count": 25,
     "metadata": {},
     "output_type": "execute_result"
    }
   ],
   "source": [
    "np.sum(data2, axis = 0)# col_wise\n",
    "np.sum(data2, axis = 1)#row_wise"
   ]
  },
  {
   "cell_type": "code",
   "execution_count": 26,
   "id": "b6d76ff3",
   "metadata": {},
   "outputs": [
    {
     "name": "stdout",
     "output_type": "stream",
     "text": [
      "[[0. 0. 0.]\n",
      " [0. 0. 0.]\n",
      " [0. 0. 0.]]\n"
     ]
    }
   ],
   "source": [
    "M11 = np.zeros((3,3))\n",
    "print(M11)"
   ]
  },
  {
   "cell_type": "code",
   "execution_count": 27,
   "id": "ccd3499d",
   "metadata": {},
   "outputs": [
    {
     "name": "stdout",
     "output_type": "stream",
     "text": [
      "[[0.17755679 0.04798685 0.74682564]\n",
      " [0.11367943 0.82176264 0.32591781]\n",
      " [0.35245131 0.17840305 0.96665344]]\n"
     ]
    }
   ],
   "source": [
    "M12 = np.random.rand(3,3)\n",
    "print(M12)"
   ]
  },
  {
   "cell_type": "code",
   "execution_count": 28,
   "id": "676e45ff",
   "metadata": {},
   "outputs": [
    {
     "name": "stdout",
     "output_type": "stream",
     "text": [
      "[[ 0. 10. 20. 30. 40.]\n",
      " [50. 60. 70. 80. 90.]]\n"
     ]
    }
   ],
   "source": [
    "M13 = np.linspace(0, 90, 10).reshape(2, 5)\n",
    "print(M13)"
   ]
  },
  {
   "cell_type": "code",
   "execution_count": 29,
   "id": "ce1cc65c",
   "metadata": {
    "scrolled": true
   },
   "outputs": [
    {
     "name": "stdout",
     "output_type": "stream",
     "text": [
      "[[1. 0. 0. 0.]\n",
      " [0. 1. 0. 0.]\n",
      " [0. 0. 1. 0.]\n",
      " [0. 0. 0. 1.]]\n"
     ]
    }
   ],
   "source": [
    "M14 = np.eye(4)\n",
    "print(M14)"
   ]
  },
  {
   "cell_type": "code",
   "execution_count": 30,
   "id": "3879717f",
   "metadata": {},
   "outputs": [
    {
     "name": "stdout",
     "output_type": "stream",
     "text": [
      "Data: \n",
      "[[ 0  1  2]\n",
      " [ 3  4  5]\n",
      " [ 6  7  8]\n",
      " [ 9 10 11]]\n",
      "Result: \n",
      "[[10 21 32]\n",
      " [13 24 35]\n",
      " [16 27 38]\n",
      " [19 30 41]]\n"
     ]
    }
   ],
   "source": [
    "data2 = np.arange(12).reshape(4,3)\n",
    "print(f'Data: \\n{data2}')\n",
    "\n",
    "v3 = np.array([10, 20, 30])\n",
    "\n",
    "Z = data2 + v3\n",
    "print(f'Result: \\n{Z}')"
   ]
  },
  {
   "cell_type": "code",
   "execution_count": 31,
   "id": "a0e17645",
   "metadata": {},
   "outputs": [
    {
     "name": "stdout",
     "output_type": "stream",
     "text": [
      "[[ 1  5  9 13]\n",
      " [ 2  6 10 14]\n",
      " [ 3  7 11 15]]\n"
     ]
    }
   ],
   "source": [
    "v4 = np.array([1, 2, 3, 4])\n",
    "Z1 = np.transpose(data2) + v4\n",
    "print(Z1)"
   ]
  },
  {
   "cell_type": "code",
   "execution_count": 32,
   "id": "73c41e4c",
   "metadata": {},
   "outputs": [
    {
     "data": {
      "text/plain": [
       "Text(0.5, 1.0, 'Hello World')"
      ]
     },
     "execution_count": 32,
     "metadata": {},
     "output_type": "execute_result"
    },
    {
     "data": {
      "image/png": "[encoded data removed]",
      "text/plain": [
       "<Figure size 432x288 with 1 Axes>"
      ]
     },
     "metadata": {
      "needs_background": "light"
     },
     "output_type": "display_data"
    }
   ],
   "source": [
    "import matplotlib.pyplot as plt\n",
    "import numpy as py\n",
    "\n",
    "x = np.array([10, 15, 20])\n",
    "y = np.array([5, 9, 7])\n",
    "\n",
    "plt.plot(x, y, 'bo')\n",
    "\n",
    "plt.xlabel('x-axis', fontsize = 12)\n",
    "plt.ylabel('y-axis', fontsize = 12)\n",
    "\n",
    "plt.title('Hello World')"
   ]
  },
  {
   "cell_type": "code",
   "execution_count": 33,
   "id": "fd2e968c",
   "metadata": {},
   "outputs": [
    {
     "data": {
      "text/plain": [
       "Text(0.5, 1.0, 'Hello World')"
      ]
     },
     "execution_count": 33,
     "metadata": {},
     "output_type": "execute_result"
    },
    {
     "data": {
      "image/png": "[encoded data removed]",
      "text/plain": [
       "<Figure size 432x288 with 1 Axes>"
      ]
     },
     "metadata": {
      "needs_background": "light"
     },
     "output_type": "display_data"
    }
   ],
   "source": [
    "import matplotlib.pyplot as plt\n",
    "import numpy as py\n",
    "\n",
    "x = np.array([10, 15, 20])\n",
    "y = np.array([5, 9, 7])\n",
    "\n",
    "plt.plot(x, y, '<')\n",
    "\n",
    "plt.xlabel('x-axis', fontsize = 12)\n",
    "plt.ylabel('y-axis', fontsize = 12)\n",
    "\n",
    "plt.title('Hello World')"
   ]
  },
  {
   "cell_type": "code",
   "execution_count": 34,
   "id": "53ff6775",
   "metadata": {},
   "outputs": [
    {
     "name": "stdout",
     "output_type": "stream",
     "text": [
      "[0 1 2 3 4 5]\n",
      "[20. 26. 32. 38. 44. 50.]\n"
     ]
    },
    {
     "data": {
      "image/png": "[encoded data removed]",
      "text/plain": [
       "<Figure size 432x288 with 1 Axes>"
      ]
     },
     "metadata": {
      "needs_background": "light"
     },
     "output_type": "display_data"
    }
   ],
   "source": [
    "x1 = np.arange(6)\n",
    "print(x1)\n",
    "\n",
    "freq = np.linspace(20, 50, 6)\n",
    "print(freq)\n",
    "\n",
    "ticklabel = ['Ban', 'Ind', 'Pak', 'Sri', 'Mal', 'Nep']\n",
    "plt.bar(x1, freq, tick_label = ticklabel, width = 0.8)\n",
    "\n",
    "plt.xlabel('X-axis')\n",
    "plt.ylabel('Frequency')\n",
    "\n",
    "plt.title('Bar Chart')\n",
    "\n",
    "plt.show()"
   ]
  },
  {
   "cell_type": "code",
   "execution_count": 35,
   "id": "72130728",
   "metadata": {},
   "outputs": [
    {
     "name": "stdout",
     "output_type": "stream",
     "text": [
      "[0 1 2 3 4 5]\n",
      "[20. 26. 32. 38. 44. 50.]\n"
     ]
    },
    {
     "data": {
      "image/png": "[encoded data removed]",
      "text/plain": [
       "<Figure size 432x288 with 1 Axes>"
      ]
     },
     "metadata": {
      "needs_background": "light"
     },
     "output_type": "display_data"
    }
   ],
   "source": [
    "x1 = np.arange(6)\n",
    "print(x1)\n",
    "\n",
    "freq = np.linspace(20, 50, 6)\n",
    "print(freq)\n",
    "\n",
    "ticklabel = ['Ban', 'Ind', 'Pak', 'Sri', 'Mal', 'Nep']\n",
    "plt.bar(x1, freq, tick_label = ticklabel, width = 0.8, color = ['blue', 'black', 'red', 'yellow', 'green', 'purple'])\n",
    "\n",
    "plt.xlabel('X-axis')\n",
    "plt.ylabel('Frequency')\n",
    "\n",
    "plt.title('Bar Chart')\n",
    "\n",
    "plt.show()"
   ]
  },
  {
   "cell_type": "markdown",
   "id": "0d12f06f",
   "metadata": {},
   "source": [
    "## First look into Numpy"
   ]
  },
  {
   "cell_type": "code",
   "execution_count": 36,
   "id": "c14fca8b",
   "metadata": {},
   "outputs": [
    {
     "name": "stdout",
     "output_type": "stream",
     "text": [
      "[20.1, 20.8, 21.9, 22.5, 22.7, 22.3, 21.8, 21.2, 20.9, 20.1]\n",
      "<class 'list'>\n",
      "[20.1 20.8 21.9 22.5 22.7 22.3 21.8 21.2 20.9 20.1]\n",
      "<class 'numpy.ndarray'>\n"
     ]
    }
   ],
   "source": [
    "# create a Python list of temperature in degree celcius\n",
    "cvalues = [20.1, 20.8, 21.9, 22.5, 22.7, 22.3, 21.8, 21.2, 20.9,\n",
    "20.1]\n",
    "# converting this list into one-dimensional Numpy array\n",
    "C = np.array(cvalues)\n",
    "print(cvalues)\n",
    "print(type(cvalues))\n",
    "print(C)\n",
    "print(type(C))"
   ]
  },
  {
   "cell_type": "markdown",
   "id": "c143c790",
   "metadata": {},
   "source": [
    "## Element-wise Operations in Numpy (Scalar Operations)"
   ]
  },
  {
   "cell_type": "code",
   "execution_count": 37,
   "id": "46fa9d88",
   "metadata": {},
   "outputs": [
    {
     "name": "stdout",
     "output_type": "stream",
     "text": [
      "F = C * 9/5 + 32: \n",
      "[68.18 69.44 71.42 72.5  72.86 72.14 71.24 70.16 69.62 68.18]\n",
      "A: \n",
      "[[1 2 3]\n",
      " [4 5 6]]\n",
      "A.shape: (2, 3)\n",
      "B: \n",
      "[[ 7  8  9]\n",
      " [10 11 12]]\n",
      "B.shape: (2, 3)\n",
      "C: \n",
      "[[ 8 10 12]\n",
      " [14 16 18]]\n",
      "C.shape: (2, 3)\n"
     ]
    }
   ],
   "source": [
    "F = C * 9/5 + 32\n",
    "print(f'F = C * 9/5 + 32: \\n{F}')\n",
    "# A few other examples of scalar operations\n",
    "A = np.array([[1,2,3],[4,5,6]])\n",
    "print(f'A: \\n{A}')\n",
    "print(f'A.shape: {A.shape}')\n",
    "B = np.array([[7,8,9],[10,11,12]])\n",
    "print(f'B: \\n{B}')\n",
    "print(f'B.shape: {B.shape}')\n",
    "C = A + B\n",
    "print(f'C: \\n{C}')\n",
    "print(f'C.shape: {C.shape}')"
   ]
  },
  {
   "cell_type": "markdown",
   "id": "4952563d",
   "metadata": {},
   "source": [
    "## Array Indexing"
   ]
  },
  {
   "cell_type": "code",
   "execution_count": 38,
   "id": "4bc6016d",
   "metadata": {},
   "outputs": [
    {
     "name": "stdout",
     "output_type": "stream",
     "text": [
      "b: \n",
      "[[ 1  2]\n",
      " [ 5  6]\n",
      " [ 9 10]]\n",
      "\n",
      "a[0,0]: 1\n",
      "\n",
      "a: \n",
      "[[ 1  2  3  4]\n",
      " [ 5  6  7  8]\n",
      " [ 9 10 11 12]]\n"
     ]
    }
   ],
   "source": [
    "a = np.array([[1,2,3,4], [5,6,7,8], [9,10,11,12]])\n",
    "b = a[:,0:2]\n",
    "print(f'b: \\n{b}')\n",
    "print(f'\\na[0,0]: {a[0,0]}\\n')\n",
    "print(f'a: \\n{a}')"
   ]
  },
  {
   "cell_type": "markdown",
   "id": "40031b94",
   "metadata": {},
   "source": [
    "## Boolean Array Indexing (for Filtering)"
   ]
  },
  {
   "cell_type": "code",
   "execution_count": 39,
   "id": "2bc55142",
   "metadata": {},
   "outputs": [
    {
     "name": "stdout",
     "output_type": "stream",
     "text": [
      "Array in boolian: \n",
      "[[False False]\n",
      " [ True  True]\n",
      " [ True  True]]\n",
      "a[bool_idx]: [3 4 5 6]\n",
      "a[a > 2]: [3 4 5 6]\n"
     ]
    }
   ],
   "source": [
    "a = np.array([[1,2], [3, 4], [5, 6]])\n",
    "bool_idx = (a > 2)\n",
    "print(f'Array in boolian: \\n{bool_idx}')\n",
    "print(f'a[bool_idx]: {a[bool_idx]}')\n",
    "# We can do all of the above in a single concise statement:\n",
    "print(f'a[a > 2]: {a[a > 2]}') # Prints \"[3 4 5 6]\""
   ]
  },
  {
   "cell_type": "markdown",
   "id": "3d2ec64b",
   "metadata": {},
   "source": [
    "## Numpy Simple Math"
   ]
  },
  {
   "cell_type": "code",
   "execution_count": 40,
   "id": "1558c62a",
   "metadata": {},
   "outputs": [
    {
     "name": "stdout",
     "output_type": "stream",
     "text": [
      "Sum: \n",
      "[x + y]: \n",
      "[[ 6.  8.]\n",
      " [10. 12.]]\n",
      "[np.add(x, y)]: \n",
      "[[ 6.  8.]\n",
      " [10. 12.]]\n",
      "\n",
      "Difference:\n",
      "[x - y]: \n",
      "[[-4. -4.]\n",
      " [-4. -4.]]\n",
      "[np.subtract(x, y)]: \n",
      "[[-4. -4.]\n",
      " [-4. -4.]]\n",
      "\n",
      "Product:\n",
      "[x * y]: \n",
      "[[ 5. 12.]\n",
      " [21. 32.]]\n",
      "[np.multiply(x, y)]: \n",
      "[[ 5. 12.]\n",
      " [21. 32.]]\n",
      "\n",
      "Division: \n",
      "[x / y]: \n",
      "[[0.2        0.33333333]\n",
      " [0.42857143 0.5       ]]\n",
      "[np.divide(x, y)]: \n",
      "[[0.2        0.33333333]\n",
      " [0.42857143 0.5       ]]\n",
      "\n",
      "Square Root: \n",
      "[[1.         1.41421356]\n",
      " [1.73205081 2.        ]]\n"
     ]
    }
   ],
   "source": [
    "x = np.array([[1,2],[3,4]], dtype=np.float64)\n",
    "y = np.array([[5,6],[7,8]], dtype=np.float64)\n",
    "# Elementwise sum\n",
    "print(\"Sum: \")\n",
    "print(f'[x + y]: \\n{x + y}')\n",
    "print(f'[np.add(x, y)]: \\n{np.add(x, y)}')\n",
    "# Elementwise difference\n",
    "print(\"\\nDifference:\")\n",
    "print(f'[x - y]: \\n{x - y}')\n",
    "print(f'[np.subtract(x, y)]: \\n{np.subtract(x, y)}')\n",
    "# Elementwise product\n",
    "print(\"\\nProduct:\")\n",
    "print(f'[x * y]: \\n{x * y}')\n",
    "print(f'[np.multiply(x, y)]: \\n{np.multiply(x, y)}')\n",
    "# Elementwise division\n",
    "print(\"\\nDivision: \")\n",
    "print(f'[x / y]: \\n{x / y}')\n",
    "print(f'[np.divide(x, y)]: \\n{np.divide(x, y)}')\n",
    "# Elementwise square root\n",
    "print(\"\\nSquare Root: \")\n",
    "print(np.sqrt(x))"
   ]
  },
  {
   "cell_type": "markdown",
   "id": "e16fd7ae",
   "metadata": {},
   "source": [
    "## Numpy Dot product and Vector and Matrix Multiplication"
   ]
  },
  {
   "cell_type": "code",
   "execution_count": 41,
   "id": "9ae48888",
   "metadata": {},
   "outputs": [
    {
     "name": "stdout",
     "output_type": "stream",
     "text": [
      "Inner product of vectors: \n",
      "219\n",
      "219\n",
      "\n",
      "Matrix / vector product: \n",
      "[29. 67.]\n",
      "[29. 67.]\n",
      "\n",
      "Matrix / matrix product: \n",
      "[[19. 22.]\n",
      " [43. 50.]]\n",
      "[[19. 22.]\n",
      " [43. 50.]]\n"
     ]
    }
   ],
   "source": [
    "x = np.array([[1,2],[3,4]], dtype=np.float64)\n",
    "y = np.array([[5,6],[7,8]], dtype=np.float64)\n",
    "v = np.array([9,10])\n",
    "w = np.array([11, 12])\n",
    "# Inner product of vectors\n",
    "print(\"Inner product of vectors: \")\n",
    "print(v.dot(w))\n",
    "print(np.dot(v, w))\n",
    "# Matrix / vector product\n",
    "print(\"\\nMatrix / vector product: \")\n",
    "print(x.dot(v))\n",
    "print(np.dot(x, v))\n",
    "# Matrix / matrix product\n",
    "print(\"\\nMatrix / matrix product: \")\n",
    "print(x.dot(y))\n",
    "print(np.dot(x, y))"
   ]
  },
  {
   "cell_type": "markdown",
   "id": "0c96f4f3",
   "metadata": {},
   "source": [
    "## Numpy Mathematical Functions"
   ]
  },
  {
   "cell_type": "code",
   "execution_count": 42,
   "id": "3a8c713f",
   "metadata": {},
   "outputs": [
    {
     "name": "stdout",
     "output_type": "stream",
     "text": [
      "sum of all elements: 10\n",
      "sum of each column: [4 6]\n",
      "sum of each row: [3 7]\n"
     ]
    }
   ],
   "source": [
    "x = np.array([[1,2],[3,4]])\n",
    "print(f'sum of all elements: {np.sum(x)}') # Compute sum of all elements\n",
    "print(f'sum of each column: {np.sum(x, axis=0)}') # Compute sum of each column\n",
    "print(f'sum of each row: {np.sum(x, axis=1)}') # Compute sum of each row"
   ]
  },
  {
   "cell_type": "markdown",
   "id": "935fa085",
   "metadata": {},
   "source": [
    "## Numpy Statistical Functions"
   ]
  },
  {
   "cell_type": "code",
   "execution_count": 43,
   "id": "ce3c3aca",
   "metadata": {},
   "outputs": [
    {
     "name": "stdout",
     "output_type": "stream",
     "text": [
      "Average: 0.5\n",
      "Data: \n",
      "[[0 1]\n",
      " [2 3]\n",
      " [4 5]]\n",
      "Row wise average: [2. 3.]\n",
      "Column wise average: [0.5 2.5 4.5]\n"
     ]
    }
   ],
   "source": [
    "data1 = np.arange(1.5)\n",
    "print(f'Average: {np.average(data1)}')\n",
    "data2 = np.arange(6).reshape(3,2)\n",
    "print(f'Data: \\n{data2}')\n",
    "print(f'Row wise average: {np.average(data2, axis = 0)}')\n",
    "print(f'Column wise average: {np.average(data2, axis = 1)}')"
   ]
  },
  {
   "cell_type": "markdown",
   "id": "88a9ae7a",
   "metadata": {},
   "source": [
    "## Broadcasting"
   ]
  },
  {
   "cell_type": "code",
   "execution_count": 44,
   "id": "86afa79b",
   "metadata": {},
   "outputs": [],
   "source": [
    "#Adding a constant vector to each row of a matrix\n",
    "\n",
    "x = np.array([[1,2,3], [4,5,6], [7,8,9], [10, 11, 12]])\n",
    "v = np.array([1, 0, 1])\n",
    "y = np.empty_like(x)\n",
    "# Add the vector v to each row of the matrix x with an explicit loop\n",
    "for i in range(4):\n",
    "    y[i, :] = x[i, :] + v"
   ]
  },
  {
   "cell_type": "code",
   "execution_count": 45,
   "id": "e1f5ee03",
   "metadata": {},
   "outputs": [
    {
     "name": "stdout",
     "output_type": "stream",
     "text": [
      "Matrix: \n",
      "[[ 2  2  4]\n",
      " [ 5  5  7]\n",
      " [ 8  8 10]\n",
      " [11 11 13]]\n"
     ]
    }
   ],
   "source": [
    "#Better Solution\n",
    "\n",
    "x = np.array([[1,2,3], [4,5,6], [7,8,9], [10, 11, 12]])\n",
    "v = np.array([1, 0, 1])\n",
    "vv = np.tile(v, (4, 1))\n",
    "y = x + vv\n",
    "print(f'Matrix: \\n{y}')"
   ]
  },
  {
   "cell_type": "code",
   "execution_count": 46,
   "id": "8aba1c80",
   "metadata": {},
   "outputs": [
    {
     "name": "stdout",
     "output_type": "stream",
     "text": [
      "Matrix: \n",
      "[[ 2  2  4]\n",
      " [ 5  5  7]\n",
      " [ 8  8 10]\n",
      " [11 11 13]]\n"
     ]
    }
   ],
   "source": [
    "#Using Broadcasting\n",
    "\n",
    "x = np.array([[1,2,3], [4,5,6], [7,8,9], [10, 11, 12]])\n",
    "v = np.array([1, 0, 1])\n",
    "y = x + v # Add v to each row of x using broadcasting\n",
    "print(f'Matrix: \\n{y}')"
   ]
  },
  {
   "cell_type": "markdown",
   "id": "539f0e56",
   "metadata": {},
   "source": [
    "## Some special Numpy Arrays"
   ]
  },
  {
   "cell_type": "code",
   "execution_count": 47,
   "id": "de33b51e",
   "metadata": {},
   "outputs": [
    {
     "data": {
      "text/plain": [
       "array([0., 0., 0., 0., 0.])"
      ]
     },
     "execution_count": 47,
     "metadata": {},
     "output_type": "execute_result"
    }
   ],
   "source": [
    "np.zeros(5)"
   ]
  },
  {
   "cell_type": "code",
   "execution_count": 48,
   "id": "70233161",
   "metadata": {},
   "outputs": [
    {
     "data": {
      "text/plain": [
       "array([[0., 0., 0.],\n",
       "       [0., 0., 0.]])"
      ]
     },
     "execution_count": 48,
     "metadata": {},
     "output_type": "execute_result"
    }
   ],
   "source": [
    "np.zeros((2,3))"
   ]
  },
  {
   "cell_type": "code",
   "execution_count": 49,
   "id": "cd81c92b",
   "metadata": {},
   "outputs": [
    {
     "data": {
      "text/plain": [
       "array([[0.72412054, 0.93433267, 0.54122465],\n",
       "       [0.01525042, 0.16433115, 0.04179655]])"
      ]
     },
     "execution_count": 49,
     "metadata": {},
     "output_type": "execute_result"
    }
   ],
   "source": [
    "np.random.rand(2,3)"
   ]
  },
  {
   "cell_type": "code",
   "execution_count": 50,
   "id": "e780ca6d",
   "metadata": {},
   "outputs": [
    {
     "data": {
      "text/plain": [
       "array([[7, 7],\n",
       "       [7, 7]])"
      ]
     },
     "execution_count": 50,
     "metadata": {},
     "output_type": "execute_result"
    }
   ],
   "source": [
    "np.full((2,2),7)"
   ]
  },
  {
   "cell_type": "code",
   "execution_count": 51,
   "id": "b8348533",
   "metadata": {},
   "outputs": [
    {
     "data": {
      "text/plain": [
       "array([[1., 0., 0.],\n",
       "       [0., 1., 0.],\n",
       "       [0., 0., 1.]])"
      ]
     },
     "execution_count": 51,
     "metadata": {},
     "output_type": "execute_result"
    }
   ],
   "source": [
    "np.eye(3)"
   ]
  },
  {
   "cell_type": "code",
   "execution_count": 52,
   "id": "bbfa2553",
   "metadata": {},
   "outputs": [
    {
     "data": {
      "text/plain": [
       "array([2, 4, 6, 8])"
      ]
     },
     "execution_count": 52,
     "metadata": {},
     "output_type": "execute_result"
    }
   ],
   "source": [
    "np.arange(2,10,2)"
   ]
  },
  {
   "cell_type": "code",
   "execution_count": 53,
   "id": "b9810092",
   "metadata": {},
   "outputs": [
    {
     "data": {
      "text/plain": [
       "array([0.  , 0.25, 0.5 , 0.75, 1.  ])"
      ]
     },
     "execution_count": 53,
     "metadata": {},
     "output_type": "execute_result"
    }
   ],
   "source": [
    "np.linspace(0,1,5)"
   ]
  },
  {
   "cell_type": "code",
   "execution_count": 54,
   "id": "a1d0523c",
   "metadata": {},
   "outputs": [],
   "source": [
    "a = np.array([3,6,9,12])"
   ]
  },
  {
   "cell_type": "code",
   "execution_count": 55,
   "id": "b97ed2c4",
   "metadata": {},
   "outputs": [
    {
     "data": {
      "text/plain": [
       "array([[ 3,  6],\n",
       "       [ 9, 12]])"
      ]
     },
     "execution_count": 55,
     "metadata": {},
     "output_type": "execute_result"
    }
   ],
   "source": [
    "np.reshape(a,(2,2))"
   ]
  },
  {
   "cell_type": "code",
   "execution_count": 56,
   "id": "b003866a",
   "metadata": {},
   "outputs": [
    {
     "name": "stdout",
     "output_type": "stream",
     "text": [
      "[[1. 1.]\n",
      " [1. 1.]]\n"
     ]
    }
   ],
   "source": [
    "a = np.ones((2,2))\n",
    "print(a)"
   ]
  },
  {
   "cell_type": "code",
   "execution_count": 57,
   "id": "2d73c7b9",
   "metadata": {},
   "outputs": [
    {
     "name": "stdout",
     "output_type": "stream",
     "text": [
      "[1. 1. 1. 1.]\n"
     ]
    }
   ],
   "source": [
    "b = a.flatten()\n",
    "print(b)"
   ]
  },
  {
   "cell_type": "code",
   "execution_count": 58,
   "id": "d0d7fca4",
   "metadata": {},
   "outputs": [
    {
     "name": "stdout",
     "output_type": "stream",
     "text": [
      "[[1 2 3]\n",
      " [4 5 6]]\n"
     ]
    }
   ],
   "source": [
    "a = np.array([[1,2,3],[4,5,6]])\n",
    "print(a)"
   ]
  },
  {
   "cell_type": "code",
   "execution_count": 59,
   "id": "9ae91fff",
   "metadata": {},
   "outputs": [
    {
     "name": "stdout",
     "output_type": "stream",
     "text": [
      "[[1 4]\n",
      " [2 5]\n",
      " [3 6]]\n"
     ]
    }
   ],
   "source": [
    "b = np.transpose(a)\n",
    "print(b)"
   ]
  },
  {
   "cell_type": "markdown",
   "id": "832d0f1d",
   "metadata": {},
   "source": [
    "## Basic Plotting"
   ]
  },
  {
   "cell_type": "code",
   "execution_count": 60,
   "id": "a8c2bcd8",
   "metadata": {},
   "outputs": [
    {
     "data": {
      "image/png": "[encoded data removed]",
      "text/plain": [
       "<Figure size 432x288 with 1 Axes>"
      ]
     },
     "metadata": {
      "needs_background": "light"
     },
     "output_type": "display_data"
    }
   ],
   "source": [
    "import matplotlib.pyplot as plt\n",
    "# x axis values\n",
    "x = np.array([1,2,3])\n",
    "# corresponding y axis values\n",
    "y = np.array([2,4,1])\n",
    "# plotting the points\n",
    "plt.plot(x, y)\n",
    "# naming the x axis\n",
    "plt.xlabel('x - axis')\n",
    "# naming the y axis\n",
    "plt.ylabel('y - axis')\n",
    "# giving a title to my graph\n",
    "plt.title('My first graph!')\n",
    "# function to show the plot\n",
    "plt.show()"
   ]
  },
  {
   "cell_type": "code",
   "execution_count": 61,
   "id": "c2391108",
   "metadata": {},
   "outputs": [
    {
     "data": {
      "image/png": "[encoded data removed]",
      "text/plain": [
       "<Figure size 432x288 with 1 Axes>"
      ]
     },
     "metadata": {
      "needs_background": "light"
     },
     "output_type": "display_data"
    }
   ],
   "source": [
    "import matplotlib.pyplot as plt\n",
    "# x-coordinates of left sides of bars\n",
    "left = [1, 2, 3, 4, 5]\n",
    "# heights of bars\n",
    "height = [10, 24, 36, 40, 5]\n",
    "# labels for bars\n",
    "tick_label = ['one', 'two', 'three', 'four', 'five']\n",
    "# plotting a bar chart\n",
    "plt.bar(left, height, tick_label = tick_label, width = 0.8, color = ['red', 'green'])\n",
    "# naming the x-axis\n",
    "plt.xlabel('x - axis')\n",
    "# naming the y-axis\n",
    "plt.ylabel('y - axis')\n",
    "# plot title\n",
    "plt.title('My bar chart!')\n",
    "# function to show the plot\n",
    "plt.show()"
   ]
  },
  {
   "cell_type": "code",
   "execution_count": null,
   "id": "93f2c1c9",
   "metadata": {},
   "outputs": [],
   "source": []
  }
 ],
 "metadata": {
  "kernelspec": {
   "display_name": "Python 3",
   "language": "python",
   "name": "python3"
  },
  "language_info": {
   "codemirror_mode": {
    "name": "ipython",
    "version": 3
   },
   "file_extension": ".py",
   "mimetype": "text/x-python",
   "name": "python",
   "nbconvert_exporter": "python",
   "pygments_lexer": "ipython3",
   "version": "3.8.8"
  }
 },
 "nbformat": 4,
 "nbformat_minor": 5
}
