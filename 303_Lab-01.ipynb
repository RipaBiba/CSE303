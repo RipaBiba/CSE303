{
 "cells": [
  {
   "cell_type": "code",
   "execution_count": 1,
   "id": "7ff2e7d2",
   "metadata": {},
   "outputs": [
    {
     "name": "stdout",
     "output_type": "stream",
     "text": [
      "This line will be printed.\n"
     ]
    }
   ],
   "source": [
    "print(\"This line will be printed.\")"
   ]
  },
  {
   "cell_type": "code",
   "execution_count": 2,
   "id": "177e4b40",
   "metadata": {},
   "outputs": [
    {
     "name": "stdout",
     "output_type": "stream",
     "text": [
      "John is 23 years old.\n"
     ]
    }
   ],
   "source": [
    "name = \"John\"\n",
    "age = 23\n",
    "print(\"%s is %d years old.\" %(name, age))"
   ]
  },
  {
   "cell_type": "code",
   "execution_count": 3,
   "id": "8bbf23bd",
   "metadata": {},
   "outputs": [
    {
     "name": "stdout",
     "output_type": "stream",
     "text": [
      "Enter your name: John\n",
      "Enter your age: 23\n",
      "John is 23 years old.\n"
     ]
    }
   ],
   "source": [
    "name = input(\"Enter your name: \")\n",
    "age = int(input(\"Enter your age: \"))\n",
    "print(f'{name} is {age} years old.')"
   ]
  },
  {
   "cell_type": "code",
   "execution_count": 4,
   "id": "b53a13b3",
   "metadata": {},
   "outputs": [
    {
     "name": "stdout",
     "output_type": "stream",
     "text": [
      "5\n",
      "<class 'int'>\n"
     ]
    }
   ],
   "source": [
    "#Integer\n",
    "x = 5\n",
    "print(x)\n",
    "print(type(x))"
   ]
  },
  {
   "cell_type": "code",
   "execution_count": 5,
   "id": "16bca9bf",
   "metadata": {},
   "outputs": [
    {
     "name": "stdout",
     "output_type": "stream",
     "text": [
      "hello\n",
      "<class 'str'>\n"
     ]
    }
   ],
   "source": [
    "#String\n",
    "x = \"hello\"\n",
    "print(x)\n",
    "print(type(x))"
   ]
  },
  {
   "cell_type": "code",
   "execution_count": 6,
   "id": "14f725e5",
   "metadata": {},
   "outputs": [
    {
     "name": "stdout",
     "output_type": "stream",
     "text": [
      "3.14159265359\n",
      "3.141593\n"
     ]
    }
   ],
   "source": [
    "#Floating point numbers\n",
    "import math\n",
    "print(format(math.pi, '.12g'))## g deya thakle . er age pore shb mile total number count hoy\n",
    "print(format(math.pi, '0.6f'))"
   ]
  },
  {
   "cell_type": "code",
   "execution_count": 7,
   "id": "c3a9fa40",
   "metadata": {},
   "outputs": [
    {
     "data": {
      "text/plain": [
       "True"
      ]
     },
     "execution_count": 7,
     "metadata": {},
     "output_type": "execute_result"
    }
   ],
   "source": [
    "2**52 <= 2**56//10 <2**53"
   ]
  },
  {
   "cell_type": "code",
   "execution_count": 8,
   "id": "fe828418",
   "metadata": {},
   "outputs": [
    {
     "name": "stdout",
     "output_type": "stream",
     "text": [
      "medium\n"
     ]
    }
   ],
   "source": [
    "#If statement\n",
    "x = 4\n",
    "if x < 1:\n",
    "    score = \"low\"\n",
    "elif x <= 4:\n",
    "    score = \"medium\"\n",
    "else:\n",
    "    score = \"high\"\n",
    "    \n",
    "print (score)"
   ]
  },
  {
   "cell_type": "code",
   "execution_count": 9,
   "id": "67f6f1d8",
   "metadata": {},
   "outputs": [
    {
     "name": "stdout",
     "output_type": "stream",
     "text": [
      "it worked\n"
     ]
    }
   ],
   "source": [
    "# If statement with a boolean\n",
    "x = True\n",
    "if x:\n",
    "    print(\"it worked\")"
   ]
  },
  {
   "cell_type": "code",
   "execution_count": 10,
   "id": "479f392e",
   "metadata": {},
   "outputs": [
    {
     "name": "stdout",
     "output_type": "stream",
     "text": [
      "carrots\n",
      "broccoli\n",
      "beans\n"
     ]
    }
   ],
   "source": [
    "# For loop\n",
    "veggies = [\"carrots\", \"broccoli\", \"beans\"]\n",
    "for veggies in veggies:\n",
    "    print(veggies)"
   ]
  },
  {
   "cell_type": "code",
   "execution_count": 11,
   "id": "f347f2e1",
   "metadata": {},
   "outputs": [
    {
     "name": "stdout",
     "output_type": "stream",
     "text": [
      "All veggies: \n",
      "carrots\n"
     ]
    }
   ],
   "source": [
    "# For loop\n",
    "veggies = [\"carrots\", \"broccoli\", \"beans\"]\n",
    "print(\"All veggies: \")\n",
    "for veggies in veggies:\n",
    "    if veggies == \"broccoli\":\n",
    "        break\n",
    "    \n",
    "    print(veggies)\n",
    "\n",
    "##Try continue as well"
   ]
  },
  {
   "cell_type": "code",
   "execution_count": 12,
   "id": "0ff51a0a",
   "metadata": {},
   "outputs": [
    {
     "name": "stdout",
     "output_type": "stream",
     "text": [
      "0\n",
      "1\n",
      "2\n",
      "3\n",
      "4\n",
      "5\n",
      "6\n",
      "7\n",
      "8\n",
      "9\n"
     ]
    }
   ],
   "source": [
    "# While loop\n",
    "i = 0\n",
    "while(i<10):\n",
    "    print(i)\n",
    "    i +=1"
   ]
  },
  {
   "cell_type": "code",
   "execution_count": 13,
   "id": "ac8411f0",
   "metadata": {},
   "outputs": [
    {
     "name": "stdout",
     "output_type": "stream",
     "text": [
      "[3, 'hello', 1.2]\n"
     ]
    }
   ],
   "source": [
    "# creating list\n",
    "x = [3, \"hello\", 1.2]\n",
    "print(x)"
   ]
  },
  {
   "cell_type": "code",
   "execution_count": 14,
   "id": "95421c94",
   "metadata": {},
   "outputs": [
    {
     "name": "stdout",
     "output_type": "stream",
     "text": [
      "(3.0, 'hello')\n"
     ]
    }
   ],
   "source": [
    "#creating tupple\n",
    "x = (3.0, \"hello\")\n",
    "# tupples start and end with ()\n",
    "print(x)"
   ]
  },
  {
   "cell_type": "code",
   "execution_count": 15,
   "id": "5b6f7334",
   "metadata": {},
   "outputs": [
    {
     "name": "stdout",
     "output_type": "stream",
     "text": [
      "Set:  {'M', 'r', 'w', 'h', ' ', 'd', 't', 'L', 'n', 'i', 'e', 'a'}\n",
      "Set split: {'with', 'Learn', 'ML', 'Made'}\n"
     ]
    }
   ],
   "source": [
    "# sets\n",
    "text = \"Learn ML with Made with ML\"\n",
    "print(\"Set: \" ,set(text))\n",
    "print(\"Set split:\" ,set(text.split(\" \")))"
   ]
  },
  {
   "cell_type": "code",
   "execution_count": 16,
   "id": "8b2a5fa3",
   "metadata": {},
   "outputs": [
    {
     "data": {
      "text/plain": [
       "['w', 'o', 'r', 'd']"
      ]
     },
     "execution_count": 16,
     "metadata": {},
     "output_type": "execute_result"
    }
   ],
   "source": [
    "# grab every letter in string\n",
    "lst = [x for x in 'word']\n",
    "lst"
   ]
  },
  {
   "cell_type": "code",
   "execution_count": 17,
   "id": "ce768207",
   "metadata": {},
   "outputs": [
    {
     "data": {
      "text/plain": [
       "[0, 2, 4, 6, 8, 10]"
      ]
     },
     "execution_count": 17,
     "metadata": {},
     "output_type": "execute_result"
    }
   ],
   "source": [
    "#check for even numbers in a range\n",
    "lst = [x for x in range(11) if x % 2 == 0]\n",
    "lst"
   ]
  },
  {
   "cell_type": "code",
   "execution_count": 18,
   "id": "55b585fd",
   "metadata": {},
   "outputs": [
    {
     "data": {
      "text/plain": [
       "[32.0, 50.0, 68.18, 94.1]"
      ]
     },
     "execution_count": 18,
     "metadata": {},
     "output_type": "execute_result"
    }
   ],
   "source": [
    "#convert celcious to fahrenheit\n",
    "celsius = [0,10,20.1,34.5]\n",
    "fahrenheit = [((float(9)/5)* temp +32) for temp in celsius]\n",
    "fahrenheit"
   ]
  },
  {
   "cell_type": "code",
   "execution_count": 19,
   "id": "9d0c5a8e",
   "metadata": {},
   "outputs": [
    {
     "data": {
      "text/plain": [
       "[0, 1, 16, 81, 256, 625, 1296, 2401, 4096, 6561, 10000]"
      ]
     },
     "execution_count": 19,
     "metadata": {},
     "output_type": "execute_result"
    }
   ],
   "source": [
    "#nested list comprehension\n",
    "lst = [x**2 for x in [x**2 for x in range(11)]]\n",
    "lst"
   ]
  },
  {
   "cell_type": "code",
   "execution_count": 20,
   "id": "407bd512",
   "metadata": {},
   "outputs": [
    {
     "name": "stdout",
     "output_type": "stream",
     "text": [
      "[0, 1, 16, 81, 256, 625, 1296, 2401, 4096, 6561, 10000, 2]\n"
     ]
    }
   ],
   "source": [
    "x = 2\n",
    "lst.append(x)\n",
    "print (lst)"
   ]
  },
  {
   "cell_type": "code",
   "execution_count": 21,
   "id": "7bf16394",
   "metadata": {},
   "outputs": [
    {
     "name": "stdout",
     "output_type": "stream",
     "text": [
      "{'john': 938477566, 'Jack': 938377264, 'Jill': 947662781}\n"
     ]
    }
   ],
   "source": [
    "phonebook = {\"john\": 938477566, \"Jack\": 938377264, \"Jill\": 947662781}\n",
    "print (phonebook)"
   ]
  },
  {
   "cell_type": "code",
   "execution_count": 22,
   "id": "388d5779",
   "metadata": {},
   "outputs": [
    {
     "name": "stdout",
     "output_type": "stream",
     "text": [
      "{'john': 938477566, 'Jack': 938377264, 'Jill': 947662781}\n",
      "Phone number of john is 938477566\n",
      "Phone number of Jack is 938377264\n",
      "Phone number of Jill is 947662781\n"
     ]
    }
   ],
   "source": [
    "phonebook = {\"john\": 938477566, \"Jack\": 938377264, \"Jill\": 947662781}\n",
    "print (phonebook)\n",
    "\n",
    "for name,number in phonebook.items():\n",
    "    print (\"Phone number of %s is %d\" %(name,number))"
   ]
  },
  {
   "cell_type": "code",
   "execution_count": 23,
   "id": "fb92016c",
   "metadata": {},
   "outputs": [
    {
     "name": "stdout",
     "output_type": "stream",
     "text": [
      "x[0]\n"
     ]
    }
   ],
   "source": [
    "#indexing\n",
    "x = [3, \"hello\", 1.2]\n",
    "print (\"x[0]\")"
   ]
  },
  {
   "cell_type": "code",
   "execution_count": 24,
   "id": "aeb38a47",
   "metadata": {},
   "outputs": [
    {
     "name": "stdout",
     "output_type": "stream",
     "text": [
      "9\n"
     ]
    }
   ],
   "source": [
    "def add_two(x):\n",
    "    x +=2\n",
    "    return x\n",
    "\n",
    "a = 2\n",
    "for a in range(10):\n",
    "    add_two(a)\n",
    "print (a)"
   ]
  },
  {
   "cell_type": "code",
   "execution_count": 25,
   "id": "bcb255c8",
   "metadata": {},
   "outputs": [
    {
     "name": "stdout",
     "output_type": "stream",
     "text": [
      "x: 5, y: 2\n"
     ]
    }
   ],
   "source": [
    "def f(*args, **kwargs):\n",
    "    x = args[0]\n",
    "    y = kwargs.get(\"y\")\n",
    "    print (f\"x: {x}, y: {y}\")\n",
    "\n",
    "f(5, y=2)"
   ]
  },
  {
   "cell_type": "code",
   "execution_count": 26,
   "id": "cf86f008",
   "metadata": {},
   "outputs": [],
   "source": [
    "def identity(x):\n",
    "    return x"
   ]
  },
  {
   "cell_type": "code",
   "execution_count": 27,
   "id": "2b8f22aa",
   "metadata": {},
   "outputs": [
    {
     "data": {
      "text/plain": [
       "<function __main__.<lambda>(x)>"
      ]
     },
     "execution_count": 27,
     "metadata": {},
     "output_type": "execute_result"
    }
   ],
   "source": [
    "lambda x:x\n"
   ]
  },
  {
   "cell_type": "code",
   "execution_count": 28,
   "id": "fcea8326",
   "metadata": {},
   "outputs": [
    {
     "data": {
      "text/plain": [
       "3"
      ]
     },
     "execution_count": 28,
     "metadata": {},
     "output_type": "execute_result"
    }
   ],
   "source": [
    "(lambda x:x+1)(2)"
   ]
  },
  {
   "cell_type": "code",
   "execution_count": 13,
   "id": "daec4147",
   "metadata": {},
   "outputs": [
    {
     "name": "stdout",
     "output_type": "stream",
     "text": [
      "Enter list length: 5\n",
      "Enter value 1: 20\n",
      "Enter value 2: 1\n",
      "Enter value 3: 5\n",
      "Enter value 4: 6\n",
      "Enter value 5: 22\n",
      "[20, 1, 5, 6, 22]\n"
     ]
    }
   ],
   "source": [
    "lst = []\n",
    "length = int(input(\"Enter list length: \"))\n",
    "for i in range(0,length): \n",
    "    a = int(input(f'Enter value {i+1}: '))\n",
    "    lst.append(a)\n",
    "print(lst)"
   ]
  },
  {
   "cell_type": "code",
   "execution_count": null,
   "id": "7032816b",
   "metadata": {},
   "outputs": [],
   "source": []
  },
  {
   "cell_type": "code",
   "execution_count": null,
   "id": "12206748",
   "metadata": {},
   "outputs": [],
   "source": []
  }
 ],
 "metadata": {
  "kernelspec": {
   "display_name": "Python 3",
   "language": "python",
   "name": "python3"
  },
  "language_info": {
   "codemirror_mode": {
    "name": "ipython",
    "version": 3
   },
   "file_extension": ".py",
   "mimetype": "text/x-python",
   "name": "python",
   "nbconvert_exporter": "python",
   "pygments_lexer": "ipython3",
   "version": "3.8.8"
  }
 },
 "nbformat": 4,
 "nbformat_minor": 5
}
