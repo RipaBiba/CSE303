{
 "cells": [
  {
   "cell_type": "markdown",
   "id": "b3d3f9a8",
   "metadata": {},
   "source": [
    "## Function"
   ]
  },
  {
   "cell_type": "code",
   "execution_count": 4,
   "id": "0c648a6c",
   "metadata": {},
   "outputs": [
    {
     "name": "stdout",
     "output_type": "stream",
     "text": [
      "bill  is the head of the king\n"
     ]
    }
   ],
   "source": [
    "def company(*args, project):\n",
    "    print(args[0],\" is the head of the\", project)\n",
    "    \n",
    "company(\"bill\", project= \"king\")"
   ]
  },
  {
   "cell_type": "code",
   "execution_count": 6,
   "id": "f59b8d7b",
   "metadata": {},
   "outputs": [
    {
     "name": "stdout",
     "output_type": "stream",
     "text": [
      "bill  is the head of the king\n"
     ]
    }
   ],
   "source": [
    "def company(*args, project):\n",
    "    print(args[0],\" is the head of the\", project)\n",
    "    \n",
    "company(\"bill\",0,5, project= \"king\")"
   ]
  },
  {
   "cell_type": "code",
   "execution_count": 7,
   "id": "a5fe6cc1",
   "metadata": {},
   "outputs": [
    {
     "name": "stdout",
     "output_type": "stream",
     "text": [
      "bill  is the head of the king\n"
     ]
    }
   ],
   "source": [
    "def company(name, project):\n",
    "    print(name,\" is the head of the\", project)\n",
    "    \n",
    "company(\"bill\", project= \"king\")"
   ]
  },
  {
   "cell_type": "code",
   "execution_count": 19,
   "id": "23a45a72",
   "metadata": {},
   "outputs": [
    {
     "ename": "SyntaxError",
     "evalue": "invalid syntax (<ipython-input-19-5b824e78474d>, line 4)",
     "output_type": "error",
     "traceback": [
      "\u001b[1;36m  File \u001b[1;32m\"<ipython-input-19-5b824e78474d>\"\u001b[1;36m, line \u001b[1;32m4\u001b[0m\n\u001b[1;33m    company(\"bill\", project = \"king\")\u001b[0m\n\u001b[1;37m    ^\u001b[0m\n\u001b[1;31mSyntaxError\u001b[0m\u001b[1;31m:\u001b[0m invalid syntax\n"
     ]
    }
   ],
   "source": [
    "def company(*args, **kwargs):\n",
    "    print(args[0],\" is the head of the\", kwargs.get(\"project\")\n",
    "    \n",
    "company(\"bill\", project = \"king\")"
   ]
  },
  {
   "cell_type": "code",
   "execution_count": 21,
   "id": "ba629dc2",
   "metadata": {},
   "outputs": [
    {
     "name": "stdout",
     "output_type": "stream",
     "text": [
      "What is your name? ripa\n",
      "What is your age? 23\n",
      "write your greetings: hi\n",
      "Hello, ripa , Your age is 23, From My Function!, I wish you hi\n"
     ]
    }
   ],
   "source": [
    "# reading input values from user\n",
    "username = input('What is your name? ')\n",
    "age = int(input('What is your age? '))\n",
    "greeting = input('write your greetings: ')\n",
    "def my_function_with_args(username, age, greeting):\n",
    "    print(\"Hello, %s , Your age is %d, From My Function!, I wish you %s\"%(username, age, greeting))\n",
    "my_function_with_args(username, age, greeting)"
   ]
  },
  {
   "cell_type": "markdown",
   "id": "ca384792",
   "metadata": {},
   "source": [
    "## lambda"
   ]
  },
  {
   "cell_type": "code",
   "execution_count": 18,
   "id": "62e3be33",
   "metadata": {},
   "outputs": [
    {
     "name": "stdout",
     "output_type": "stream",
     "text": [
      "10\n"
     ]
    }
   ],
   "source": [
    "double = lambda x: x * 2\n",
    "print(double(5))"
   ]
  },
  {
   "cell_type": "markdown",
   "id": "bdf2fd4a",
   "metadata": {},
   "source": [
    "## List Comprehension revisit"
   ]
  },
  {
   "cell_type": "code",
   "execution_count": 27,
   "id": "f66c4f30",
   "metadata": {},
   "outputs": [
    {
     "name": "stdout",
     "output_type": "stream",
     "text": [
      "['the', 'quick', 'brown', 'fox', 'jumps', 'over', 'the', 'lazy', 'dog']\n",
      "[5, 5, 3, 5, 4, 4, 3]\n"
     ]
    }
   ],
   "source": [
    "sentence = \"the quick brown fox jumps over the lazy dog\"\n",
    "words = sentence.split()\n",
    "word_lengths = []\n",
    "for word in words:\n",
    "    if word != \"the\": \n",
    "        word_lengths.append(len(word))\n",
    "print(words)\n",
    "print(word_lengths)\n",
    "##Using List Comprehension: \n",
    "##word_lengths = [len(word) for word in words if word != \"the\"]"
   ]
  },
  {
   "cell_type": "markdown",
   "id": "ba88a14a",
   "metadata": {},
   "source": [
    "## map(), filter(), reduce()"
   ]
  },
  {
   "cell_type": "code",
   "execution_count": 31,
   "id": "064fd97f",
   "metadata": {},
   "outputs": [
    {
     "name": "stdout",
     "output_type": "stream",
     "text": [
      "[2, 4, 6, 8, 10, 12]\n"
     ]
    }
   ],
   "source": [
    "def double(x):\n",
    "    return x*2 \n",
    "\n",
    "list1 = [1, 2, 3, 4, 5, 6]\n",
    "results = []\n",
    "for i in list1:\n",
    "    results.append(double(i))\n",
    "\n",
    "print(results)"
   ]
  },
  {
   "cell_type": "code",
   "execution_count": 30,
   "id": "575600b2",
   "metadata": {},
   "outputs": [
    {
     "name": "stdout",
     "output_type": "stream",
     "text": [
      "[2, 4, 6, 8, 10, 12]\n"
     ]
    }
   ],
   "source": [
    "def double(x):\n",
    "    return x*2\n",
    "list1 = [1, 2, 3, 4, 5, 6]\n",
    "results = [x for x in map(double, list1)] #lambda functions can also be used\n",
    "print(results)"
   ]
  },
  {
   "cell_type": "code",
   "execution_count": 35,
   "id": "1e07711b",
   "metadata": {},
   "outputs": [
    {
     "ename": "NameError",
     "evalue": "name 'letter' is not defined",
     "output_type": "error",
     "traceback": [
      "\u001b[1;31m---------------------------------------------------------------------------\u001b[0m",
      "\u001b[1;31mNameError\u001b[0m                                 Traceback (most recent call last)",
      "\u001b[1;32m<ipython-input-35-ccfbd5d12eed>\u001b[0m in \u001b[0;36m<module>\u001b[1;34m\u001b[0m\n\u001b[0;32m      6\u001b[0m         \u001b[1;32mreturn\u001b[0m \u001b[1;32mFalse\u001b[0m\u001b[1;33m\u001b[0m\u001b[1;33m\u001b[0m\u001b[0m\n\u001b[0;32m      7\u001b[0m \u001b[1;33m\u001b[0m\u001b[0m\n\u001b[1;32m----> 8\u001b[1;33m \u001b[0mfilteredVowels\u001b[0m \u001b[1;33m=\u001b[0m \u001b[0mfilter\u001b[0m\u001b[1;33m(\u001b[0m\u001b[0mfilterVowels\u001b[0m\u001b[1;33m,\u001b[0m \u001b[0mletter\u001b[0m\u001b[1;33m)\u001b[0m\u001b[1;33m\u001b[0m\u001b[1;33m\u001b[0m\u001b[0m\n\u001b[0m\u001b[0;32m      9\u001b[0m \u001b[0mprint\u001b[0m\u001b[1;33m(\u001b[0m\u001b[1;34m'The filtered vowels are:'\u001b[0m\u001b[1;33m)\u001b[0m\u001b[1;33m\u001b[0m\u001b[1;33m\u001b[0m\u001b[0m\n\u001b[0;32m     10\u001b[0m \u001b[1;32mfor\u001b[0m \u001b[0mvowel\u001b[0m \u001b[1;32min\u001b[0m \u001b[0mfilteredVowels\u001b[0m\u001b[1;33m:\u001b[0m\u001b[1;33m\u001b[0m\u001b[1;33m\u001b[0m\u001b[0m\n",
      "\u001b[1;31mNameError\u001b[0m: name 'letter' is not defined"
     ]
    }
   ],
   "source": [
    "def filterVowels(letter):\n",
    "    vowels = ['a', 'e', 'i', 'o', 'u']\n",
    "    if(letter in vowels):\n",
    "        return True\n",
    "    else:\n",
    "        return False\n",
    "\n",
    "filteredVowels = filter(filterVowels, letters)\n",
    "print('The filtered vowels are:')\n",
    "for vowel in filteredVowels:\n",
    "    print(vowel)"
   ]
  },
  {
   "cell_type": "code",
   "execution_count": null,
   "id": "bb78184f",
   "metadata": {},
   "outputs": [],
   "source": []
  }
 ],
 "metadata": {
  "kernelspec": {
   "display_name": "Python 3",
   "language": "python",
   "name": "python3"
  },
  "language_info": {
   "codemirror_mode": {
    "name": "ipython",
    "version": 3
   },
   "file_extension": ".py",
   "mimetype": "text/x-python",
   "name": "python",
   "nbconvert_exporter": "python",
   "pygments_lexer": "ipython3",
   "version": "3.8.8"
  }
 },
 "nbformat": 4,
 "nbformat_minor": 5
}
