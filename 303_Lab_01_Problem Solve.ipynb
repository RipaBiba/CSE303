{
 "cells": [
  {
   "cell_type": "markdown",
   "id": "7519860e",
   "metadata": {},
   "source": [
    "## 01"
   ]
  },
  {
   "cell_type": "code",
   "execution_count": 1,
   "id": "0efddca9",
   "metadata": {},
   "outputs": [
    {
     "name": "stdout",
     "output_type": "stream",
     "text": [
      "Enter 1st number: 200\n",
      "Enter 2nd number: 50\n",
      "Result:  250\n"
     ]
    }
   ],
   "source": [
    "numb01 = int(input(\"Enter 1st number: \"))\n",
    "numb02 = int(input(\"Enter 2nd number: \"))\n",
    "\n",
    "product = numb01*numb02\n",
    "sum = numb01+numb02\n",
    "\n",
    "if product > 1000:\n",
    "     res = sum\n",
    "else:\n",
    "    res = product\n",
    "    \n",
    "print(\"Result: \", res)\n"
   ]
  },
  {
   "cell_type": "markdown",
   "id": "64d88e82",
   "metadata": {},
   "source": [
    "# 02"
   ]
  },
  {
   "cell_type": "code",
   "execution_count": 4,
   "id": "dd3d8843",
   "metadata": {},
   "outputs": [
    {
     "name": "stdout",
     "output_type": "stream",
     "text": [
      "Input Radius : 2\n",
      "Area of Circle:  12.56\n",
      "Perimeter of Circle:  12.56\n"
     ]
    }
   ],
   "source": [
    "radius = float(input(\"Input Radius : \"))\n",
    "area = 3.14*radius*radius\n",
    "perimeter = 2*3.14*radius\n",
    "print(\"Area of Circle: \",area)\n",
    "print(\"Perimeter of Circle: \",perimeter)"
   ]
  },
  {
   "cell_type": "markdown",
   "id": "6b72eaf0",
   "metadata": {},
   "source": [
    "## 03"
   ]
  },
  {
   "cell_type": "code",
   "execution_count": 6,
   "id": "3fe9dbac",
   "metadata": {},
   "outputs": [
    {
     "name": "stdout",
     "output_type": "stream",
     "text": [
      "Enter Principle Value: 20\n",
      "Enter Rate: 3\n",
      "Enter Time: 2\n",
      "Compound interest is 1.218\n"
     ]
    }
   ],
   "source": [
    "import math\n",
    "def compound_interest(principle, rate, time):\n",
    "\n",
    "    Amount = principle * (pow((1 + rate / 100), time))\n",
    "    Compound_Interest = Amount - principle\n",
    "    print(\"Compound interest is\", Compound_Interest)\n",
    "\n",
    "principle = float(input(\"Enter Principle Value: \"))\n",
    "rate = float(input(\"Enter Rate: \"))\n",
    "time = float (input(\"Enter Time: \"))\n",
    "\n",
    "compound_interest(principle, rate, time)"
   ]
  },
  {
   "cell_type": "markdown",
   "id": "f33ce0b1",
   "metadata": {},
   "source": [
    "## 04"
   ]
  },
  {
   "cell_type": "code",
   "execution_count": 11,
   "id": "bd4ae7b5",
   "metadata": {},
   "outputs": [
    {
     "name": "stdout",
     "output_type": "stream",
     "text": [
      "Please Enter any Positive Number  : 10\n",
      "The Sum of Series upto 10  = 385\n"
     ]
    }
   ],
   "source": [
    "# Sum of Series 1²+2²+3²+….+n²\n",
    "\n",
    "def sumofsquareseries(numb):\n",
    "    if(numb == 0):\n",
    "        return 0\n",
    "    else:\n",
    "        ## (number * (number + 1) * (2 * number + 1)) / 6\n",
    "        return (numb * numb) + sumofsquareseries(numb - 1)\n",
    "\n",
    "\n",
    "numb = int(input(\"Please Enter any Positive Number  : \"))\n",
    "total = sumofsquareseries(numb)\n",
    "\n",
    "print(f'The Sum of Series upto {numb}  = {total}')"
   ]
  },
  {
   "cell_type": "markdown",
   "id": "a375a39f",
   "metadata": {},
   "source": [
    "## 05"
   ]
  },
  {
   "cell_type": "code",
   "execution_count": 16,
   "id": "115173e5",
   "metadata": {},
   "outputs": [
    {
     "name": "stdout",
     "output_type": "stream",
     "text": [
      "Enter a Number: 1\n",
      "1 is not a prime number\n"
     ]
    }
   ],
   "source": [
    "## Check Prime\n",
    "def prime_find_024(numb):\n",
    "    if numb > 1:\n",
    "        for i in range(2, int(numb/2)+1):\n",
    "            if numb % i == 0:\n",
    "                print(f'{numb} is not a prime number')\n",
    "                break\n",
    "            else:\n",
    "                print(f'{numb} is a prime number')\n",
    "                break\n",
    "    else:\n",
    "        print(f'{numb} is not a prime number')\n",
    "        \n",
    "numb = int(input(\"Enter a Number: \"))\n",
    "prime_find_024(numb)"
   ]
  },
  {
   "cell_type": "markdown",
   "id": "5a7f6518",
   "metadata": {},
   "source": [
    "## 06"
   ]
  },
  {
   "cell_type": "code",
   "execution_count": 22,
   "id": "9b53a51c",
   "metadata": {
    "scrolled": true
   },
   "outputs": [
    {
     "name": "stdout",
     "output_type": "stream",
     "text": [
      "Enter a number: 22\n",
      "22 th fibonacci number is 10946\n"
     ]
    }
   ],
   "source": [
    "## check Fibonacci number\n",
    "def Fibonacci(numb):\n",
    "    if numb <= 0:\n",
    "        print(\"Incorrect input\")\n",
    "    elif numb == 1:\n",
    "        return 0\n",
    "    elif numb == 2:\n",
    "        return 1\n",
    "    else:\n",
    "        return Fibonacci(numb-1)+Fibonacci(numb-2)\n",
    "\n",
    "numb = int(input(\"Enter a number: \"))\n",
    "result = Fibonacci(numb)\n",
    "print(f'{numb} th Fibonacci number is {result}')"
   ]
  },
  {
   "cell_type": "markdown",
   "id": "0887818f",
   "metadata": {},
   "source": [
    "## 07"
   ]
  },
  {
   "cell_type": "code",
   "execution_count": 31,
   "id": "234fe531",
   "metadata": {},
   "outputs": [
    {
     "name": "stdout",
     "output_type": "stream",
     "text": [
      "Enter list length: 2\n",
      "Enter value 1: 3\n",
      "Enter value 2: 55\n",
      "[3, 55]\n",
      "Sum of all elements in given list:  58\n"
     ]
    }
   ],
   "source": [
    "## Calc Sum\n",
    "def Sum(numb):\n",
    "    total = 0\n",
    "    if len(numb) == 0:\n",
    "        print(\"Empty List\")\n",
    "    else:\n",
    "        for i in range(0, len(numb)):\n",
    "            total += numb[i]\n",
    "            \n",
    "    print(\"Sum of all elements in given list: \", total)\n",
    "    \n",
    "lst = []\n",
    "length = int(input(\"Enter list length: \"))\n",
    "for i in range(0,length): \n",
    "    a = int(input(f'Enter value {i+1}: '))\n",
    "    lst.append(a)\n",
    "print(lst)\n",
    "\n",
    "Sum(lst)"
   ]
  },
  {
   "cell_type": "markdown",
   "id": "8612784d",
   "metadata": {},
   "source": [
    "## 08"
   ]
  },
  {
   "cell_type": "code",
   "execution_count": 32,
   "id": "69c93771",
   "metadata": {},
   "outputs": [
    {
     "name": "stdout",
     "output_type": "stream",
     "text": [
      "Enter list length: 1\n",
      "Enter value 1: 2\n",
      "[2]\n",
      "Sum of all even index elements in given list:  2\n"
     ]
    }
   ],
   "source": [
    "## Calc even index Sum\n",
    "def Sum(numb):\n",
    "    total = 0\n",
    "    if len(numb) == 0:\n",
    "        print(\"Empty List\")\n",
    "    else:\n",
    "        for i in range(0, len(numb)):\n",
    "            if i % 2 == 0:\n",
    "                total += numb[i]\n",
    "            \n",
    "    print(\"Sum of all even index elements in given list: \", total)\n",
    "    \n",
    "lst = []\n",
    "length = int(input(\"Enter list length: \"))\n",
    "for i in range(0,length): \n",
    "    a = int(input(f'Enter value {i+1}: '))\n",
    "    lst.append(a)\n",
    "print(lst)\n",
    "\n",
    "Sum(lst)"
   ]
  },
  {
   "cell_type": "markdown",
   "id": "e31bcf5f",
   "metadata": {},
   "source": [
    "## 09"
   ]
  },
  {
   "cell_type": "code",
   "execution_count": 48,
   "id": "a4785b79",
   "metadata": {},
   "outputs": [
    {
     "name": "stdout",
     "output_type": "stream",
     "text": [
      "Enter list length: 2\n",
      "Enter value 1: 5\n",
      "Enter value 2: 1\n",
      "[5, 1]\n",
      "\n",
      "\n",
      "5 is the Largest Element in this List.\n",
      "\n",
      "1 is the position of Largest Element in this List.\n",
      "\n",
      "1 is the Smallest Element in this List.\n",
      "\n",
      "2 is the position of Smallest Element in this List.\n",
      "\n"
     ]
    }
   ],
   "source": [
    "## Calc large & small number\n",
    "\n",
    "def largest_number_024(numb):\n",
    "    large = numb[0]\n",
    "    large_position = 0\n",
    "    if len(numb) == 0:\n",
    "        print(\"Empty List\")\n",
    "    else:\n",
    "        for i in range(0, len(numb)):\n",
    "             if(large < numb[i]):\n",
    "                    large = numb[i]\n",
    "                    large_position += 1\n",
    "    print(f'{large} is the Largest Element in this List.\\n')\n",
    "    print(f'{large_position+1} is the position of Largest Element in this List.\\n')\n",
    "\n",
    "\n",
    "def smallest_number_024(numb):\n",
    "    small = numb[0]\n",
    "    small_position = 0\n",
    "    if len(numb) == 0:\n",
    "        print(\"Empty List\")\n",
    "    else:\n",
    "        for i in range(0, len(numb)):\n",
    "             if(small > numb[i]):\n",
    "                    small = numb[i]\n",
    "                    small_position += 1\n",
    "    print(f'{small} is the Smallest Element in this List.\\n')\n",
    "    print(f'{small_position+1} is the position of Smallest Element in this List.\\n')\n",
    "                \n",
    "lst = []\n",
    "length = int(input(\"Enter list length: \"))\n",
    "for i in range(0,length): \n",
    "    a = int(input(f'Enter value {i+1}: '))\n",
    "    lst.append(a)\n",
    "print(lst)\n",
    "print(\"\\n\")\n",
    "\n",
    "largest_number_024(lst)\n",
    "smallest_number_024(lst)"
   ]
  },
  {
   "cell_type": "markdown",
   "id": "f3d8823a",
   "metadata": {},
   "source": [
    "## 10"
   ]
  },
  {
   "cell_type": "code",
   "execution_count": 71,
   "id": "8b5acf58",
   "metadata": {},
   "outputs": [
    {
     "name": "stdout",
     "output_type": "stream",
     "text": [
      "Enter list length: 7\n",
      "Enter value 1: 5\n",
      "Enter value 2: 6\n",
      "Enter value 3: 4\n",
      "Enter value 4: 8\n",
      "Enter value 5: 3\n",
      "Enter value 6: 2\n",
      "Enter value 7: 7\n",
      "[5, 6, 4, 8, 3, 2, 7]\n",
      "\n",
      "\n",
      "7 is the Second Largest Element in this List.\n",
      "\n",
      "7 is the position of Second Largest Element in this List.\n",
      "\n"
     ]
    }
   ],
   "source": [
    "## Calc large & small number\n",
    "def second_largest_number(numb):\n",
    "    second_large = numb[0]\n",
    "    large = numb[0]\n",
    "    large_position = 0\n",
    "    for i in range(len(numb)):\n",
    "        if(large < numb[i]):\n",
    "            large = numb[i]\n",
    "            \n",
    "    for i in range(len(numb)):\n",
    "        if numb[i] > second_large and numb[i] != large:\n",
    "            second_large = numb[i]\n",
    "            large_position = i+1\n",
    "            \n",
    "    print(f'{second_large} is the Second Largest Element in this List.\\n')\n",
    "    print(f'{large_position} is the position of Second Largest Element in this List.\\n')\n",
    "\n",
    "lst = []\n",
    "length = int(input(\"Enter list length: \"))\n",
    "for i in range(0,length): \n",
    "    a = int(input(f'Enter value {i+1}: '))\n",
    "    lst.append(a)\n",
    "print(lst)\n",
    "print(\"\\n\")\n",
    "\n",
    "second_largest_number(lst)"
   ]
  },
  {
   "cell_type": "markdown",
   "id": "ccaf322f",
   "metadata": {},
   "source": [
    "## 11."
   ]
  },
  {
   "cell_type": "code",
   "execution_count": 1,
   "id": "edf366b9",
   "metadata": {},
   "outputs": [
    {
     "name": "stdout",
     "output_type": "stream",
     "text": [
      "Enter a String: lazyfox\n",
      "Even Characters: ['l', 'z', 'f', 'x']\n"
     ]
    }
   ],
   "source": [
    "## Find even index characters from string\n",
    "def even_index_character(string):\n",
    "    even_char = []\n",
    "    for i in range(len(string)):\n",
    "        if i % 2 == 0:\n",
    "            even_char.append(string[i])\n",
    "            \n",
    "    print(f'Even Characters: {even_char}')\n",
    "    \n",
    "string = input(\"Enter a String: \")\n",
    "even_index_character(string)"
   ]
  },
  {
   "cell_type": "markdown",
   "id": "e13aeb09",
   "metadata": {},
   "source": [
    "## 12."
   ]
  },
  {
   "cell_type": "code",
   "execution_count": 3,
   "id": "e6787945",
   "metadata": {},
   "outputs": [
    {
     "name": "stdout",
     "output_type": "stream",
     "text": [
      "Enter a String: lazyfox\n",
      "Enter how many char want to remove: 2\n",
      "The New String: zyfox\n",
      " The old string was: lazyfox\n"
     ]
    }
   ],
   "source": [
    "## Remove n characters\n",
    "def remove_n_characters(string, n):\n",
    "    new_string = \"\"\n",
    "    for i in range(n,  len(string)):\n",
    "        new_string = new_string + string[i]\n",
    "        \n",
    "    print(f'The New String: {new_string}\\nThe old string was: {string}')\n",
    "    \n",
    "string = input(\"Enter a String: \")\n",
    "n = int(input(\"Enter how many char want to remove: \"))\n",
    "remove_n_characters(string, n)"
   ]
  },
  {
   "cell_type": "markdown",
   "id": "b73c0fbc",
   "metadata": {},
   "source": [
    "## 13."
   ]
  },
  {
   "cell_type": "code",
   "execution_count": 7,
   "id": "534feec4",
   "metadata": {},
   "outputs": [
    {
     "name": "stdout",
     "output_type": "stream",
     "text": [
      "Enter a String: king is a king of a kingdom\n",
      "Enter a Sub String: king\n",
      "There are total 3 substrings found.\n"
     ]
    }
   ],
   "source": [
    "## Count substrings\n",
    "def count_substrings(string, sub_string):\n",
    "    count = 0\n",
    "    start = 0\n",
    "    \n",
    "    for i in range(len(string)):\n",
    "        position = string.find(sub_string, start)\n",
    "        if position != -1:\n",
    "            start = position + 1\n",
    "            count += 1\n",
    "        \n",
    "    if count == 0:\n",
    "        print(\"There has no Substring found.\")\n",
    "    else:\n",
    "        print(f'There are total {count} substrings found.')\n",
    "\n",
    "string = input(\"Enter a String: \")\n",
    "sub_string = input(\"Enter a Sub String: \")\n",
    "count_substrings(string, sub_string)"
   ]
  },
  {
   "cell_type": "markdown",
   "id": "44e64a1b",
   "metadata": {},
   "source": [
    "## 14."
   ]
  },
  {
   "cell_type": "code",
   "execution_count": 12,
   "id": "9815479f",
   "metadata": {},
   "outputs": [
    {
     "name": "stdout",
     "output_type": "stream",
     "text": [
      "Enter a String: kinggnik\n",
      "kinggnik string is Palindrome\n"
     ]
    }
   ],
   "source": [
    "## check palindrome \n",
    "def palindrome_checker_024(string):\n",
    "    count = 0\n",
    "    for i in range(0, int(len(string)/2)):\n",
    "        if string[i] != string[len(string)-i-1]:\n",
    "            count += 1\n",
    "    if count == 0:\n",
    "        print(f'{string} string is Palindrome')\n",
    "    else:\n",
    "        print (f'{string} string is not Palindrome')\n",
    "    \n",
    "string = input(\"Enter a String: \")\n",
    "palindrome_checker_024(string)"
   ]
  },
  {
   "cell_type": "markdown",
   "id": "ed1a8e12",
   "metadata": {},
   "source": [
    "## 15."
   ]
  },
  {
   "cell_type": "code",
   "execution_count": 18,
   "id": "ed040c46",
   "metadata": {},
   "outputs": [
    {
     "name": "stdout",
     "output_type": "stream",
     "text": [
      "Enter list length: 2\n",
      "Enter value 1: 5\n",
      "Enter value 2: 4\n",
      "First List: [5, 4]\n",
      "\n",
      "\n",
      "Enter list length: 3\n",
      "Enter value 1: 2\n",
      "Enter value 2: 1\n",
      "Enter value 3: 9\n",
      "Second List: [2, 1, 9]\n",
      "\n",
      "\n",
      "Odd list from first list: [5]\n",
      "Even list from second list: [2]\n",
      "\n",
      "The new List: [5, 2]\n"
     ]
    }
   ],
   "source": [
    "## even odd list\n",
    "def even_odd_list(list1, list2):\n",
    "    even_list = [] \n",
    "    odd_list = [] \n",
    "    new_list = []\n",
    "    for i in list1: \n",
    "        if (i % 2 != 0): \n",
    "            odd_list.append(i)\n",
    "            new_list.append(i)\n",
    "            \n",
    "    for i in list2: \n",
    "        if (i % 2 == 0): \n",
    "            even_list.append(i)\n",
    "            new_list.append(i)\n",
    "        \n",
    "    print(f'Odd list from first list: {odd_list}')\n",
    "    print(f'Even list from second list: {even_list}')\n",
    "    print(f'\\nThe new List: {new_list}')\n",
    "    \n",
    "list1 = []\n",
    "length = int(input(\"Enter list length: \"))\n",
    "for i in range(0,length): \n",
    "    a = int(input(f'Enter value {i+1}: '))\n",
    "    list1.append(a)\n",
    "print(f'First List: {list1}')\n",
    "print(\"\\n\")\n",
    "\n",
    "list2 = []\n",
    "length = int(input(\"Enter list length: \"))\n",
    "for i in range(0,length): \n",
    "    a = int(input(f'Enter value {i+1}: '))\n",
    "    list2.append(a)\n",
    "print(f'Second List: {list2}')\n",
    "print(\"\\n\")\n",
    "\n",
    "even_odd_list(list1, list2)"
   ]
  },
  {
   "cell_type": "code",
   "execution_count": null,
   "id": "46d957a0",
   "metadata": {},
   "outputs": [],
   "source": []
  }
 ],
 "metadata": {
  "kernelspec": {
   "display_name": "Python 3",
   "language": "python",
   "name": "python3"
  },
  "language_info": {
   "codemirror_mode": {
    "name": "ipython",
    "version": 3
   },
   "file_extension": ".py",
   "mimetype": "text/x-python",
   "name": "python",
   "nbconvert_exporter": "python",
   "pygments_lexer": "ipython3",
   "version": "3.8.8"
  }
 },
 "nbformat": 4,
 "nbformat_minor": 5
}
